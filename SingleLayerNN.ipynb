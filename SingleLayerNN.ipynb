{
 "cells": [
  {
   "cell_type": "markdown",
   "id": "a602ef98-4435-401b-8f36-fc042fe2ab75",
   "metadata": {},
   "source": [
    "# Project: CatVsNon-cat;\n",
    "## Logistic regression classifier to recoginize cat\n",
    "In this project I have implemented single layer neural network from scratch to idenity cat."
   ]
  },
  {
   "cell_type": "code",
   "execution_count": 1,
   "id": "b6ff29e2-93d9-4c52-80e2-52427bb5f243",
   "metadata": {},
   "outputs": [],
   "source": [
    "# importing necessary libraries\n",
    "import numpy as np\n",
    "import h5py\n",
    "import matplotlib.pyplot as plt\n",
    "%matplotlib inline"
   ]
  },
  {
   "cell_type": "code",
   "execution_count": 2,
   "id": "824f6f9a-c6e4-4083-b5f2-d52ea0f712d5",
   "metadata": {},
   "outputs": [],
   "source": [
    "def load_dataset():\n",
    "    \"\"\"\n",
    "    This function will return dataset required for train and test binary classifer model\n",
    "    \n",
    "    Argument:\n",
    "        Null\n",
    "    Returns:\n",
    "        train_set_x_orig --- matrix X for training model\n",
    "        train_set_y_orig --- vector Y for actual result for traning dataset\n",
    "        test_set_x_orig  --- matrix X for test model\n",
    "        test_set_y_orig  --- vector y with actual result for test_set_x \n",
    "        classes          --- label for class\n",
    "    \"\"\"\n",
    "    \n",
    "    # fetching train and test dataset info np array \n",
    "    train_data_set = h5py.File('datasets/catvnoncat/train_catvnoncat.h5', 'r')\n",
    "    train_set_x_orig = np.array(train_data_set['train_set_x'][:])\n",
    "    train_set_y_orig = np.array(train_data_set['train_set_y'][:])\n",
    "    \n",
    "    test_data_set = h5py.File('datasets/catvnoncat/test_catvnoncat.h5', 'r')\n",
    "    test_set_x_orig = np.array(test_data_set['test_set_x'][:])\n",
    "    test_set_y_orig = np.array(test_data_set['test_set_y'][:])\n",
    "    classes = np.array(test_data_set[\"list_classes\"][:])\n",
    "    \n",
    "    plt.imshow(train_set_x_orig[25])\n",
    "    \n",
    "    # pre-processing of data\n",
    "    test_set_x = test_set_x_orig.reshape(test_set_x_orig.shape[0], -1).T / 255\n",
    "    train_set_x = train_set_x_orig.reshape(train_set_x_orig.shape[0], -1).T / 255\n",
    "    train_set_y = train_set_y_orig.reshape((1, train_set_y_orig.shape[0]))\n",
    "    test_set_y = test_set_y_orig.reshape((1, test_set_y_orig.shape[0]))\n",
    "    \n",
    "        \n",
    "    return train_set_x, train_set_y, test_set_x, test_set_y, classes\n"
   ]
  },
  {
   "cell_type": "code",
   "execution_count": 3,
   "id": "5cd78741-fd70-4478-ab3e-31bb4fff2178",
   "metadata": {},
   "outputs": [
    {
     "data": {
      "image/png": "[encoded data removed]",
      "text/plain": [
       "<Figure size 432x288 with 1 Axes>"
      ]
     },
     "metadata": {
      "needs_background": "light"
     },
     "output_type": "display_data"
    }
   ],
   "source": [
    "train_set_x, train_set_y, test_set_x, test_set_y, classes = load_dataset()"
   ]
  },
  {
   "cell_type": "code",
   "execution_count": 4,
   "id": "c8ed4d0c-c07f-4907-8cd7-65eb54747f6a",
   "metadata": {},
   "outputs": [
    {
     "data": {
      "text/plain": [
       "((12288, 50), (12288, 209), (1, 50), (1, 209))"
      ]
     },
     "execution_count": 4,
     "metadata": {},
     "output_type": "execute_result"
    }
   ],
   "source": [
    "test_set_x.shape, train_set_x.shape, test_set_y.shape, train_set_y.shape"
   ]
  },
  {
   "cell_type": "code",
   "execution_count": 5,
   "id": "29354c94-7565-40c6-81f7-c3cd9a125e73",
   "metadata": {},
   "outputs": [],
   "source": [
    "m = train_set_x.shape[1]\n",
    "n_0 = train_set_x.shape[0]\n",
    "n_1 = 1"
   ]
  },
  {
   "cell_type": "code",
   "execution_count": 6,
   "id": "77538b0c-3437-4d63-b71b-e4c311607b9d",
   "metadata": {},
   "outputs": [
    {
     "data": {
      "text/plain": [
       "(12288, 209)"
      ]
     },
     "execution_count": 6,
     "metadata": {},
     "output_type": "execute_result"
    }
   ],
   "source": [
    "n_0, m"
   ]
  },
  {
   "cell_type": "code",
   "execution_count": 34,
   "id": "9a5849ac-e2d5-402a-acf6-5514ad5ad09d",
   "metadata": {},
   "outputs": [],
   "source": [
    "def initialize_parameter():\n",
    "    w = np.zeros((1, 12288))\n",
    "    b = 0\n",
    "    return w,b"
   ]
  },
  {
   "cell_type": "code",
   "execution_count": 35,
   "id": "176f9693-1e67-484e-ba8c-05d084c532bd",
   "metadata": {},
   "outputs": [],
   "source": [
    "def sigmoid (Z):\n",
    "    s = 1 / (1 + np.exp(-Z))\n",
    "    return s"
   ]
  },
  {
   "cell_type": "code",
   "execution_count": 36,
   "id": "f59571ab-3902-4a80-ae18-cfb91fc4e6b2",
   "metadata": {},
   "outputs": [],
   "source": [
    "def sigmoid_dash (sigmoid):\n",
    "    return sigmoid(1 - sigmoid)"
   ]
  },
  {
   "cell_type": "code",
   "execution_count": 37,
   "id": "113a3237-e7ac-404f-87d9-3bab6e9f2463",
   "metadata": {},
   "outputs": [],
   "source": [
    "w, b = initialize_parameter()"
   ]
  },
  {
   "cell_type": "code",
   "execution_count": 38,
   "id": "301648e5-63c8-4e82-914c-0afaf7703451",
   "metadata": {},
   "outputs": [
    {
     "data": {
      "text/plain": [
       "array([[0., 0., 0., ..., 0., 0., 0.]])"
      ]
     },
     "execution_count": 38,
     "metadata": {},
     "output_type": "execute_result"
    }
   ],
   "source": [
    "w"
   ]
  },
  {
   "cell_type": "code",
   "execution_count": 39,
   "id": "bcb928ff-ce41-4bd2-b404-35f03121be11",
   "metadata": {},
   "outputs": [
    {
     "data": {
      "text/plain": [
       "(1, 12288)"
      ]
     },
     "execution_count": 39,
     "metadata": {},
     "output_type": "execute_result"
    }
   ],
   "source": [
    "w.shape"
   ]
  },
  {
   "cell_type": "code",
   "execution_count": 40,
   "id": "20cf26bb-3c60-42c8-8819-ee860df6d461",
   "metadata": {},
   "outputs": [],
   "source": [
    "def propagation (X, Y, w, b, m):\n",
    "    \n",
    "    # forward propagation\n",
    "    Z = np.dot(w, X) + b\n",
    "    A = sigmoid(Z)\n",
    "    # finding cost function\n",
    "    cost =  -1 / m * (np.sum( Y * np.log(A) + (1 - Y) * np.log(1 - A)))\n",
    "    \n",
    "    # backward propagation\n",
    "    dZ = A - Y\n",
    "    dw = 1/m * (dZ @ X.T)\n",
    "    db = 1/m * (np.sum(dZ))\n",
    "     \n",
    "    grad = {\n",
    "        'dw': dw,\n",
    "        'db': db\n",
    "    }\n",
    "    \n",
    "    return grad, cost"
   ]
  },
  {
   "cell_type": "code",
   "execution_count": 41,
   "id": "cacc1dc4-ecf1-4330-947a-db1d693fa1e0",
   "metadata": {},
   "outputs": [],
   "source": [
    "def train_model (X, Y, iteration, alpha):\n",
    "    w, b = initialize_parameter()\n",
    "    costs = []\n",
    "    for i in range(1, iteration):\n",
    "        grad, cost = propagation(X, Y, w, b, m)\n",
    "        dw = grad['dw']\n",
    "        db =grad['db']\n",
    "        \n",
    "        w = w - alpha * dw\n",
    "        b = b - alpha * db\n",
    "        \n",
    "        costs.append(cost)\n",
    "        if i % 100 == 0:\n",
    "            print(\"Cost at iteratin \" + str(i) + \"= \" + str(cost))\n",
    "                  \n",
    "    return (w,b, costs)"
   ]
  },
  {
   "cell_type": "code",
   "execution_count": 56,
   "id": "621d73d5-681e-4717-9b05-f241c505f5c4",
   "metadata": {},
   "outputs": [
    {
     "name": "stdout",
     "output_type": "stream",
     "text": [
      "Cost at iteratin 100= 0.477156599120851\n",
      "Cost at iteratin 200= 0.8471090844796878\n",
      "Cost at iteratin 300= 0.5837524292707903\n",
      "Cost at iteratin 400= 0.48113378858142664\n",
      "Cost at iteratin 500= 0.361210669797696\n",
      "Cost at iteratin 600= 0.24121803137399878\n",
      "Cost at iteratin 700= 0.16856909798571454\n",
      "Cost at iteratin 800= 0.15051961109129258\n",
      "Cost at iteratin 900= 0.13960214927293094\n",
      "Cost at iteratin 1000= 0.13039816628969828\n",
      "Cost at iteratin 1100= 0.12239501125295052\n",
      "Cost at iteratin 1200= 0.11532321913851916\n",
      "Cost at iteratin 1300= 0.10901077032638219\n",
      "Cost at iteratin 1400= 0.10333458689620555\n",
      "Cost at iteratin 1500= 0.09820058698730896\n",
      "Cost at iteratin 1600= 0.09353397977935106\n",
      "Cost at iteratin 1700= 0.08927382995795337\n",
      "Cost at iteratin 1800= 0.08536965871234038\n",
      "Cost at iteratin 1900= 0.08177913909839762\n",
      "Cost at iteratin 2000= 0.0784664419650968\n",
      "Cost at iteratin 2100= 0.07540100103018835\n",
      "Cost at iteratin 2200= 0.07255656495844441\n",
      "Cost at iteratin 2300= 0.06991045494365192\n",
      "Cost at iteratin 2400= 0.06744297432353019\n",
      "Cost at iteratin 2500= 0.06513693342309071\n",
      "Cost at iteratin 2600= 0.06297726335191996\n",
      "Cost at iteratin 2700= 0.06095069946958104\n",
      "Cost at iteratin 2800= 0.05904552005635784\n",
      "Cost at iteratin 2900= 0.057251329158642755\n",
      "Cost at iteratin 3000= 0.05555887508025642\n",
      "Cost at iteratin 3100= 0.05395989785040098\n",
      "Cost at iteratin 3200= 0.052447000402579574\n",
      "Cost at iteratin 3300= 0.05101353927217223\n",
      "Cost at iteratin 3400= 0.049653531450176654\n",
      "Cost at iteratin 3500= 0.048361574678220554\n",
      "Cost at iteratin 3600= 0.047132778979536195\n",
      "Cost at iteratin 3700= 0.0459627076245303\n",
      "Cost at iteratin 3800= 0.04484732605191337\n",
      "Cost at iteratin 3900= 0.0437829575251313\n",
      "Cost at iteratin 4000= 0.04276624451275634\n",
      "Cost at iteratin 4100= 0.04179411495103895\n",
      "Cost at iteratin 4200= 0.04086375268508244\n",
      "Cost at iteratin 4300= 0.03997257149836973\n",
      "Cost at iteratin 4400= 0.0391181922335683\n",
      "Cost at iteratin 4500= 0.0382984225845355\n",
      "Cost at iteratin 4600= 0.03751123920330974\n",
      "Cost at iteratin 4700= 0.03675477181904045\n",
      "Cost at iteratin 4800= 0.03602728911023373\n",
      "Cost at iteratin 4900= 0.03532718610893393\n",
      "Cost at iteratin 5000= 0.0346529729467914\n",
      "Cost at iteratin 5100= 0.03400326477940402\n",
      "Cost at iteratin 5200= 0.03337677274769762\n",
      "Cost at iteratin 5300= 0.032772295854109366\n",
      "Cost at iteratin 5400= 0.032188713647513065\n",
      "Cost at iteratin 5500= 0.031624979624634265\n",
      "Cost at iteratin 5600= 0.031080115267525958\n",
      "Cost at iteratin 5700= 0.030553204646820167\n",
      "Cost at iteratin 5800= 0.030043389529202297\n",
      "Cost at iteratin 5900= 0.029549864935083284\n",
      "Cost at iteratin 6000= 0.02907187509895626\n",
      "Cost at iteratin 6100= 0.028608709790563763\n",
      "Cost at iteratin 6200= 0.02815970095990223\n",
      "Cost at iteratin 6300= 0.027724219673353596\n",
      "Cost at iteratin 6400= 0.027301673311952736\n",
      "Cost at iteratin 6500= 0.026891503006050022\n",
      "Cost at iteratin 6600= 0.026493181283474106\n",
      "Cost at iteratin 6700= 0.026106209910796714\n",
      "Cost at iteratin 6800= 0.025730117909496596\n",
      "Cost at iteratin 6900= 0.025364459730752697\n",
      "Cost at iteratin 7000= 0.025008813574300744\n",
      "Cost at iteratin 7100= 0.02466277983829538\n",
      "Cost at iteratin 7200= 0.024325979688452827\n",
      "Cost at iteratin 7300= 0.02399805373593178\n",
      "Cost at iteratin 7400= 0.02367866081446054\n",
      "Cost at iteratin 7500= 0.023367476848151464\n",
      "Cost at iteratin 7600= 0.02306419380227689\n",
      "Cost at iteratin 7700= 0.022768518710021536\n",
      "Cost at iteratin 7800= 0.02248017276889008\n",
      "Cost at iteratin 7900= 0.022198890501040992\n",
      "Cost at iteratin 8000= 0.021924418972349573\n",
      "Cost at iteratin 8100= 0.021656517065478723\n",
      "Cost at iteratin 8200= 0.02139495480266495\n",
      "Cost at iteratin 8300= 0.021139512714310697\n",
      "Cost at iteratin 8400= 0.02088998124982186\n",
      "Cost at iteratin 8500= 0.02064616022744049\n",
      "Cost at iteratin 8600= 0.02040785832010589\n",
      "Cost at iteratin 8700= 0.02017489257463017\n",
      "Cost at iteratin 8800= 0.019947087961707313\n",
      "Cost at iteratin 8900= 0.01972427695448051\n",
      "Cost at iteratin 9000= 0.019506299133584412\n",
      "Cost at iteratin 9100= 0.019293000816748552\n",
      "Cost at iteratin 9200= 0.01908423471120556\n",
      "Cost at iteratin 9300= 0.018879859587288383\n",
      "Cost at iteratin 9400= 0.018679739971731\n",
      "Cost at iteratin 9500= 0.018483745859303947\n",
      "Cost at iteratin 9600= 0.01829175244152331\n",
      "Cost at iteratin 9700= 0.018103639851270018\n",
      "Cost at iteratin 9800= 0.017919292922245655\n",
      "Cost at iteratin 9900= 0.01773860096227275\n"
     ]
    }
   ],
   "source": [
    "w,b, costs = train_model(train_set_x, train_set_y, 10000, 0.009)"
   ]
  },
  {
   "cell_type": "code",
   "execution_count": 43,
   "id": "f0d86c9f-b027-49eb-928c-3e2e1f552298",
   "metadata": {},
   "outputs": [
    {
     "data": {
      "text/plain": [
       "array([[ 0.01084253, -0.02821444, -0.01276612, ..., -0.01310739,\n",
       "        -0.03209621,  0.02422386]])"
      ]
     },
     "execution_count": 43,
     "metadata": {},
     "output_type": "execute_result"
    }
   ],
   "source": [
    "w"
   ]
  },
  {
   "cell_type": "code",
   "execution_count": 44,
   "id": "a8eb676d-b6a5-455a-8511-583fc2697ecf",
   "metadata": {},
   "outputs": [
    {
     "data": {
      "text/plain": [
       "-0.0061346587223721286"
      ]
     },
     "execution_count": 44,
     "metadata": {},
     "output_type": "execute_result"
    }
   ],
   "source": [
    "b"
   ]
  },
  {
   "cell_type": "code",
   "execution_count": 45,
   "id": "4f867c2e-8f54-4e32-8182-2985d1de5637",
   "metadata": {},
   "outputs": [],
   "source": [
    "def predict (w,b, X):\n",
    "    m = X.shape[1]\n",
    "    A = sigmoid(w @ X + b)\n",
    "    Y = np.zeros_like(A)\n",
    "    \n",
    "    for i in range(A.shape[1]):\n",
    "        Y[0][i] = 1 if A[0][i] > 0.5 else 0\n",
    "        \n",
    "    return Y"
   ]
  },
  {
   "cell_type": "code",
   "execution_count": 46,
   "id": "d7937461-cda6-492e-9f9a-2ec24fd7ebf1",
   "metadata": {},
   "outputs": [],
   "source": [
    "Y_hat = predict(w, b, test_set_x)"
   ]
  },
  {
   "cell_type": "code",
   "execution_count": 47,
   "id": "df874e44-6114-4141-8e7c-245b63efd059",
   "metadata": {},
   "outputs": [],
   "source": [
    "Y = test_set_y"
   ]
  },
  {
   "cell_type": "code",
   "execution_count": 48,
   "id": "aefdcb45-307c-419e-bddc-f94f51ba1b42",
   "metadata": {},
   "outputs": [
    {
     "data": {
      "text/plain": [
       "(1, 50)"
      ]
     },
     "execution_count": 48,
     "metadata": {},
     "output_type": "execute_result"
    }
   ],
   "source": [
    "test_set_y.shape"
   ]
  },
  {
   "cell_type": "code",
   "execution_count": 49,
   "id": "add5db27-e0bd-4135-a146-903d69499775",
   "metadata": {},
   "outputs": [],
   "source": [
    "success = 0\n",
    "failure = 0"
   ]
  },
  {
   "cell_type": "code",
   "execution_count": 50,
   "id": "1f8b698c-9d25-4978-85b3-90c2270f8eba",
   "metadata": {},
   "outputs": [],
   "source": [
    "for i in range(Y.shape[1]):\n",
    "    if Y_hat[0][1] == Y_hat[0][1]:\n",
    "        success += 1\n",
    "    else:\n",
    "        failure += 1"
   ]
  },
  {
   "cell_type": "code",
   "execution_count": 51,
   "id": "152602db-b89e-4275-8303-61084a6ed508",
   "metadata": {},
   "outputs": [
    {
     "data": {
      "text/plain": [
       "50"
      ]
     },
     "execution_count": 51,
     "metadata": {},
     "output_type": "execute_result"
    }
   ],
   "source": [
    "success"
   ]
  },
  {
   "cell_type": "code",
   "execution_count": 52,
   "id": "046c888b-f40a-4e5f-9ad6-102aa14f946d",
   "metadata": {},
   "outputs": [
    {
     "data": {
      "text/plain": [
       "0"
      ]
     },
     "execution_count": 52,
     "metadata": {},
     "output_type": "execute_result"
    }
   ],
   "source": [
    "failure"
   ]
  },
  {
   "cell_type": "code",
   "execution_count": 53,
   "id": "8b4e08e9-8c19-45c3-9426-41770225f905",
   "metadata": {},
   "outputs": [],
   "source": [
    "success_rate = str((success/ (success + failure)) * 100) + ' %' "
   ]
  },
  {
   "cell_type": "code",
   "execution_count": 54,
   "id": "9c1af66f-6911-4fb6-a085-566072a9abe9",
   "metadata": {},
   "outputs": [
    {
     "data": {
      "text/plain": [
       "'100.0 %'"
      ]
     },
     "execution_count": 54,
     "metadata": {},
     "output_type": "execute_result"
    }
   ],
   "source": [
    "success_rate"
   ]
  },
  {
   "cell_type": "code",
   "execution_count": 55,
   "id": "46f542d5-55a2-49c3-a1ef-22b7d1bc35bb",
   "metadata": {},
   "outputs": [
    {
     "data": {
      "image/png": "[encoded data removed]",
      "text/plain": [
       "<Figure size 432x288 with 1 Axes>"
      ]
     },
     "metadata": {
      "needs_background": "light"
     },
     "output_type": "display_data"
    }
   ],
   "source": [
    "plt.plot(costs)\n",
    "plt.ylabel('Cost')\n",
    "plt.xlabel('Iteration')\n",
    "plt.title('Learning rate : ' + str(0.009))\n",
    "plt.show()"
   ]
  },
  {
   "cell_type": "code",
   "execution_count": null,
   "id": "b91bfa0a-1cae-45eb-95a8-151fae6ad6e8",
   "metadata": {},
   "outputs": [],
   "source": []
  },
  {
   "cell_type": "code",
   "execution_count": null,
   "id": "7971e3ba-7bca-4495-b834-63c0b8514124",
   "metadata": {},
   "outputs": [],
   "source": []
  }
 ],
 "metadata": {
  "kernelspec": {
   "display_name": "Python 3 (ipykernel)",
   "language": "python",
   "name": "python3"
  },
  "language_info": {
   "codemirror_mode": {
    "name": "ipython",
    "version": 3
   },
   "file_extension": ".py",
   "mimetype": "text/x-python",
   "name": "python",
   "nbconvert_exporter": "python",
   "pygments_lexer": "ipython3",
   "version": "3.9.5"
  }
 },
 "nbformat": 4,
 "nbformat_minor": 5
}
